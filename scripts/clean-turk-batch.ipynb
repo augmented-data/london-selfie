{
 "cells": [
  {
   "cell_type": "code",
   "execution_count": 1,
   "metadata": {
    "collapsed": true
   },
   "outputs": [],
   "source": [
    "import csv\n",
    "import pandas as pd\n",
    "import numpy as np\n",
    "from sklearn.metrics import classification_report"
   ]
  },
  {
   "cell_type": "code",
   "execution_count": 2,
   "metadata": {
    "collapsed": true
   },
   "outputs": [],
   "source": [
    "def return_rows(filename, file_encoding = 'rU'):\n",
    "    with open(filename, file_encoding) as f: \n",
    "        reader = csv.reader(f)\n",
    "        rowsInData = [row for row in reader]\n",
    "    return rowsInData  "
   ]
  },
  {
   "cell_type": "code",
   "execution_count": 3,
   "metadata": {
    "collapsed": true
   },
   "outputs": [],
   "source": [
    "batch_results = return_rows(\"../data/london-Batch_2136806_batch_results.csv\")"
   ]
  },
  {
   "cell_type": "code",
   "execution_count": 4,
   "metadata": {
    "collapsed": false
   },
   "outputs": [
    {
     "data": {
      "text/plain": [
       "3031"
      ]
     },
     "execution_count": 4,
     "metadata": {},
     "output_type": "execute_result"
    }
   ],
   "source": [
    "len(batch_results)"
   ]
  },
  {
   "cell_type": "code",
   "execution_count": 5,
   "metadata": {
    "collapsed": false
   },
   "outputs": [
    {
     "data": {
      "text/plain": [
       "['HITId',\n",
       " 'HITTypeId',\n",
       " 'Title',\n",
       " 'Description',\n",
       " 'Keywords',\n",
       " 'Reward',\n",
       " 'CreationTime',\n",
       " 'MaxAssignments',\n",
       " 'RequesterAnnotation',\n",
       " 'AssignmentDurationInSeconds',\n",
       " 'AutoApprovalDelayInSeconds',\n",
       " 'Expiration',\n",
       " 'NumberOfSimilarHITs',\n",
       " 'LifetimeInSeconds',\n",
       " 'AssignmentId',\n",
       " 'WorkerId',\n",
       " 'AssignmentStatus',\n",
       " 'AcceptTime',\n",
       " 'SubmitTime',\n",
       " 'AutoApprovalTime',\n",
       " 'ApprovalTime',\n",
       " 'RejectionTime',\n",
       " 'RequesterFeedback',\n",
       " 'WorkTimeInSeconds',\n",
       " 'LifetimeApprovalRate',\n",
       " 'Last30DaysApprovalRate',\n",
       " 'Last7DaysApprovalRate',\n",
       " 'Input.image1',\n",
       " 'Input.image2',\n",
       " 'Input.image3',\n",
       " 'Input.image4',\n",
       " 'Input.image5',\n",
       " 'Input.image6',\n",
       " 'Input.image7',\n",
       " 'Input.image8',\n",
       " 'Input.image9',\n",
       " 'Input.image10',\n",
       " 'Input.image11',\n",
       " 'Input.image12',\n",
       " 'Input.image13',\n",
       " 'Input.image14',\n",
       " 'Input.image15',\n",
       " 'Input.image16',\n",
       " 'Input.image17',\n",
       " 'Input.image18',\n",
       " 'Input.image19',\n",
       " 'Input.image20',\n",
       " 'Input.image21',\n",
       " 'Input.image22',\n",
       " 'Input.image23',\n",
       " 'Input.image24',\n",
       " 'Answer.selected',\n",
       " 'Approve',\n",
       " 'Reject']"
      ]
     },
     "execution_count": 5,
     "metadata": {},
     "output_type": "execute_result"
    }
   ],
   "source": [
    "batch_results[0]"
   ]
  },
  {
   "cell_type": "code",
   "execution_count": 6,
   "metadata": {
    "collapsed": false
   },
   "outputs": [
    {
     "data": {
      "text/plain": [
       "['301KG0KX9CMEK4N2VDKT10ZK3Y3H2Q',\n",
       " '3G39WTVP4C9OETXC2SGB3L2W9PO6L5',\n",
       " 'Review images with NO faces',\n",
       " 'Find and select the photos that DO NOT have faces',\n",
       " 'image, tag, faces, label, faces, fun',\n",
       " '$0.01',\n",
       " 'Mon Oct 26 12:29:29 PDT 2015',\n",
       " '3',\n",
       " 'BatchId:2136806;',\n",
       " '3600',\n",
       " '28800',\n",
       " 'Wed Oct 28 12:29:29 PDT 2015',\n",
       " '',\n",
       " '',\n",
       " '37KGEN7NJ3R5CCKQ6Q8CU65NOX4PPH',\n",
       " 'A3CXWYYNNVMHIW',\n",
       " 'Submitted',\n",
       " 'Mon Oct 26 13:03:01 PDT 2015',\n",
       " 'Mon Oct 26 13:03:14 PDT 2015',\n",
       " 'Mon Oct 26 21:03:14 PDT 2015',\n",
       " '',\n",
       " '',\n",
       " '',\n",
       " '13',\n",
       " '0% (0/0)',\n",
       " '0% (0/0)',\n",
       " '0% (0/0)',\n",
       " 'https://s3-us-west-2.amazonaws.com/london-selfie/candidate-london-imgs/11887159_884018661705494_2035748543_n.jpg',\n",
       " 'https://s3-us-west-2.amazonaws.com/london-selfie/candidate-london-imgs/11887159_909256455828438_131534861_n.jpg',\n",
       " 'https://s3-us-west-2.amazonaws.com/london-selfie/candidate-london-imgs/11887160_1275582932479662_916936918_n.jpg',\n",
       " 'https://s3-us-west-2.amazonaws.com/london-selfie/candidate-london-imgs/11887160_1499394023710267_1980755282_n.jpg',\n",
       " 'https://s3-us-west-2.amazonaws.com/london-selfie/candidate-london-imgs/11887160_1501983606787578_97471191_n.jpg',\n",
       " 'https://s3-us-west-2.amazonaws.com/london-selfie/candidate-london-imgs/11887160_1687655524799074_715546773_n.jpg',\n",
       " 'https://s3-us-west-2.amazonaws.com/london-selfie/candidate-london-imgs/11887160_562781650542815_65410691_n.jpg',\n",
       " 'https://s3-us-west-2.amazonaws.com/london-selfie/candidate-london-imgs/11887160_679526052184371_393380622_n.jpg',\n",
       " 'https://s3-us-west-2.amazonaws.com/london-selfie/candidate-london-imgs/11887160_881563328607167_1080878540_n.jpg',\n",
       " 'https://s3-us-west-2.amazonaws.com/london-selfie/candidate-london-imgs/11887161_1702423679990840_1667603352_n.jpg',\n",
       " 'https://s3-us-west-2.amazonaws.com/london-selfie/candidate-london-imgs/11887161_534615710020577_238227425_n.jpg',\n",
       " 'https://s3-us-west-2.amazonaws.com/london-selfie/candidate-london-imgs/11887162_1501305726849257_1072536389_n.jpg',\n",
       " 'https://s3-us-west-2.amazonaws.com/london-selfie/candidate-london-imgs/11887162_1656365894576155_1014317523_n.jpg',\n",
       " 'https://s3-us-west-2.amazonaws.com/london-selfie/candidate-london-imgs/11887162_1674093546161479_2089852731_n.jpg',\n",
       " 'https://s3-us-west-2.amazonaws.com/london-selfie/candidate-london-imgs/11887162_1912574038968598_1104177836_n.jpg',\n",
       " 'https://s3-us-west-2.amazonaws.com/london-selfie/candidate-london-imgs/11887162_404842663059066_1865494705_n.jpg',\n",
       " 'https://s3-us-west-2.amazonaws.com/london-selfie/candidate-london-imgs/11887164_1478058052498645_404850929_n.jpg',\n",
       " 'https://s3-us-west-2.amazonaws.com/london-selfie/candidate-london-imgs/11887164_157045567972251_1563581260_n.jpg',\n",
       " 'https://s3-us-west-2.amazonaws.com/london-selfie/candidate-london-imgs/11887164_1635937773356166_1525906499_n.jpg',\n",
       " 'https://s3-us-west-2.amazonaws.com/london-selfie/candidate-london-imgs/11887165_509417879225173_1308744964_n.jpg',\n",
       " 'https://s3-us-west-2.amazonaws.com/london-selfie/candidate-london-imgs/11887165_510680905763345_163461313_n.jpg',\n",
       " 'https://s3-us-west-2.amazonaws.com/london-selfie/candidate-london-imgs/11887165_838729016248469_2071438944_n.jpg',\n",
       " 'https://s3-us-west-2.amazonaws.com/london-selfie/candidate-london-imgs/11887166_687418164728790_968974052_n.jpg',\n",
       " 'https://s3-us-west-2.amazonaws.com/london-selfie/candidate-london-imgs/11887167_932107600188250_1019723082_n.jpg',\n",
       " 'image1|image14']"
      ]
     },
     "execution_count": 6,
     "metadata": {},
     "output_type": "execute_result"
    }
   ],
   "source": [
    "batch_results[1]"
   ]
  },
  {
   "cell_type": "code",
   "execution_count": 7,
   "metadata": {
    "collapsed": false
   },
   "outputs": [
    {
     "data": {
      "text/plain": [
       "['https://s3-us-west-2.amazonaws.com/london-selfie/candidate-london-imgs/11887159_884018661705494_2035748543_n.jpg',\n",
       " 'https://s3-us-west-2.amazonaws.com/london-selfie/candidate-london-imgs/11887159_909256455828438_131534861_n.jpg',\n",
       " 'https://s3-us-west-2.amazonaws.com/london-selfie/candidate-london-imgs/11887160_1275582932479662_916936918_n.jpg',\n",
       " 'https://s3-us-west-2.amazonaws.com/london-selfie/candidate-london-imgs/11887160_1499394023710267_1980755282_n.jpg',\n",
       " 'https://s3-us-west-2.amazonaws.com/london-selfie/candidate-london-imgs/11887160_1501983606787578_97471191_n.jpg',\n",
       " 'https://s3-us-west-2.amazonaws.com/london-selfie/candidate-london-imgs/11887160_1687655524799074_715546773_n.jpg',\n",
       " 'https://s3-us-west-2.amazonaws.com/london-selfie/candidate-london-imgs/11887160_562781650542815_65410691_n.jpg',\n",
       " 'https://s3-us-west-2.amazonaws.com/london-selfie/candidate-london-imgs/11887160_679526052184371_393380622_n.jpg',\n",
       " 'https://s3-us-west-2.amazonaws.com/london-selfie/candidate-london-imgs/11887160_881563328607167_1080878540_n.jpg',\n",
       " 'https://s3-us-west-2.amazonaws.com/london-selfie/candidate-london-imgs/11887161_1702423679990840_1667603352_n.jpg',\n",
       " 'https://s3-us-west-2.amazonaws.com/london-selfie/candidate-london-imgs/11887161_534615710020577_238227425_n.jpg',\n",
       " 'https://s3-us-west-2.amazonaws.com/london-selfie/candidate-london-imgs/11887162_1501305726849257_1072536389_n.jpg',\n",
       " 'https://s3-us-west-2.amazonaws.com/london-selfie/candidate-london-imgs/11887162_1656365894576155_1014317523_n.jpg',\n",
       " 'https://s3-us-west-2.amazonaws.com/london-selfie/candidate-london-imgs/11887162_1674093546161479_2089852731_n.jpg',\n",
       " 'https://s3-us-west-2.amazonaws.com/london-selfie/candidate-london-imgs/11887162_1912574038968598_1104177836_n.jpg',\n",
       " 'https://s3-us-west-2.amazonaws.com/london-selfie/candidate-london-imgs/11887162_404842663059066_1865494705_n.jpg',\n",
       " 'https://s3-us-west-2.amazonaws.com/london-selfie/candidate-london-imgs/11887164_1478058052498645_404850929_n.jpg',\n",
       " 'https://s3-us-west-2.amazonaws.com/london-selfie/candidate-london-imgs/11887164_157045567972251_1563581260_n.jpg',\n",
       " 'https://s3-us-west-2.amazonaws.com/london-selfie/candidate-london-imgs/11887164_1635937773356166_1525906499_n.jpg',\n",
       " 'https://s3-us-west-2.amazonaws.com/london-selfie/candidate-london-imgs/11887165_509417879225173_1308744964_n.jpg',\n",
       " 'https://s3-us-west-2.amazonaws.com/london-selfie/candidate-london-imgs/11887165_510680905763345_163461313_n.jpg',\n",
       " 'https://s3-us-west-2.amazonaws.com/london-selfie/candidate-london-imgs/11887165_838729016248469_2071438944_n.jpg',\n",
       " 'https://s3-us-west-2.amazonaws.com/london-selfie/candidate-london-imgs/11887166_687418164728790_968974052_n.jpg',\n",
       " 'https://s3-us-west-2.amazonaws.com/london-selfie/candidate-london-imgs/11887167_932107600188250_1019723082_n.jpg',\n",
       " 'image1|image14']"
      ]
     },
     "execution_count": 7,
     "metadata": {},
     "output_type": "execute_result"
    }
   ],
   "source": [
    "batch_results[1][-25:]"
   ]
  },
  {
   "cell_type": "code",
   "execution_count": 8,
   "metadata": {
    "collapsed": true
   },
   "outputs": [],
   "source": [
    "relevant_results = [batch_result[-25:] for batch_result in batch_results[1:]]"
   ]
  },
  {
   "cell_type": "code",
   "execution_count": 9,
   "metadata": {
    "collapsed": false
   },
   "outputs": [
    {
     "data": {
      "text/plain": [
       "3030"
      ]
     },
     "execution_count": 9,
     "metadata": {},
     "output_type": "execute_result"
    }
   ],
   "source": [
    "len(relevant_results)\n"
   ]
  },
  {
   "cell_type": "code",
   "execution_count": 10,
   "metadata": {
    "collapsed": false
   },
   "outputs": [
    {
     "data": {
      "text/plain": [
       "[['https://s3-us-west-2.amazonaws.com/london-selfie/candidate-london-imgs/11887159_884018661705494_2035748543_n.jpg',\n",
       "  'https://s3-us-west-2.amazonaws.com/london-selfie/candidate-london-imgs/11887159_909256455828438_131534861_n.jpg',\n",
       "  'https://s3-us-west-2.amazonaws.com/london-selfie/candidate-london-imgs/11887160_1275582932479662_916936918_n.jpg',\n",
       "  'https://s3-us-west-2.amazonaws.com/london-selfie/candidate-london-imgs/11887160_1499394023710267_1980755282_n.jpg',\n",
       "  'https://s3-us-west-2.amazonaws.com/london-selfie/candidate-london-imgs/11887160_1501983606787578_97471191_n.jpg',\n",
       "  'https://s3-us-west-2.amazonaws.com/london-selfie/candidate-london-imgs/11887160_1687655524799074_715546773_n.jpg',\n",
       "  'https://s3-us-west-2.amazonaws.com/london-selfie/candidate-london-imgs/11887160_562781650542815_65410691_n.jpg',\n",
       "  'https://s3-us-west-2.amazonaws.com/london-selfie/candidate-london-imgs/11887160_679526052184371_393380622_n.jpg',\n",
       "  'https://s3-us-west-2.amazonaws.com/london-selfie/candidate-london-imgs/11887160_881563328607167_1080878540_n.jpg',\n",
       "  'https://s3-us-west-2.amazonaws.com/london-selfie/candidate-london-imgs/11887161_1702423679990840_1667603352_n.jpg',\n",
       "  'https://s3-us-west-2.amazonaws.com/london-selfie/candidate-london-imgs/11887161_534615710020577_238227425_n.jpg',\n",
       "  'https://s3-us-west-2.amazonaws.com/london-selfie/candidate-london-imgs/11887162_1501305726849257_1072536389_n.jpg',\n",
       "  'https://s3-us-west-2.amazonaws.com/london-selfie/candidate-london-imgs/11887162_1656365894576155_1014317523_n.jpg',\n",
       "  'https://s3-us-west-2.amazonaws.com/london-selfie/candidate-london-imgs/11887162_1674093546161479_2089852731_n.jpg',\n",
       "  'https://s3-us-west-2.amazonaws.com/london-selfie/candidate-london-imgs/11887162_1912574038968598_1104177836_n.jpg',\n",
       "  'https://s3-us-west-2.amazonaws.com/london-selfie/candidate-london-imgs/11887162_404842663059066_1865494705_n.jpg',\n",
       "  'https://s3-us-west-2.amazonaws.com/london-selfie/candidate-london-imgs/11887164_1478058052498645_404850929_n.jpg',\n",
       "  'https://s3-us-west-2.amazonaws.com/london-selfie/candidate-london-imgs/11887164_157045567972251_1563581260_n.jpg',\n",
       "  'https://s3-us-west-2.amazonaws.com/london-selfie/candidate-london-imgs/11887164_1635937773356166_1525906499_n.jpg',\n",
       "  'https://s3-us-west-2.amazonaws.com/london-selfie/candidate-london-imgs/11887165_509417879225173_1308744964_n.jpg',\n",
       "  'https://s3-us-west-2.amazonaws.com/london-selfie/candidate-london-imgs/11887165_510680905763345_163461313_n.jpg',\n",
       "  'https://s3-us-west-2.amazonaws.com/london-selfie/candidate-london-imgs/11887165_838729016248469_2071438944_n.jpg',\n",
       "  'https://s3-us-west-2.amazonaws.com/london-selfie/candidate-london-imgs/11887166_687418164728790_968974052_n.jpg',\n",
       "  'https://s3-us-west-2.amazonaws.com/london-selfie/candidate-london-imgs/11887167_932107600188250_1019723082_n.jpg',\n",
       "  'image1|image14'],\n",
       " ['https://s3-us-west-2.amazonaws.com/london-selfie/candidate-london-imgs/11887159_884018661705494_2035748543_n.jpg',\n",
       "  'https://s3-us-west-2.amazonaws.com/london-selfie/candidate-london-imgs/11887159_909256455828438_131534861_n.jpg',\n",
       "  'https://s3-us-west-2.amazonaws.com/london-selfie/candidate-london-imgs/11887160_1275582932479662_916936918_n.jpg',\n",
       "  'https://s3-us-west-2.amazonaws.com/london-selfie/candidate-london-imgs/11887160_1499394023710267_1980755282_n.jpg',\n",
       "  'https://s3-us-west-2.amazonaws.com/london-selfie/candidate-london-imgs/11887160_1501983606787578_97471191_n.jpg',\n",
       "  'https://s3-us-west-2.amazonaws.com/london-selfie/candidate-london-imgs/11887160_1687655524799074_715546773_n.jpg',\n",
       "  'https://s3-us-west-2.amazonaws.com/london-selfie/candidate-london-imgs/11887160_562781650542815_65410691_n.jpg',\n",
       "  'https://s3-us-west-2.amazonaws.com/london-selfie/candidate-london-imgs/11887160_679526052184371_393380622_n.jpg',\n",
       "  'https://s3-us-west-2.amazonaws.com/london-selfie/candidate-london-imgs/11887160_881563328607167_1080878540_n.jpg',\n",
       "  'https://s3-us-west-2.amazonaws.com/london-selfie/candidate-london-imgs/11887161_1702423679990840_1667603352_n.jpg',\n",
       "  'https://s3-us-west-2.amazonaws.com/london-selfie/candidate-london-imgs/11887161_534615710020577_238227425_n.jpg',\n",
       "  'https://s3-us-west-2.amazonaws.com/london-selfie/candidate-london-imgs/11887162_1501305726849257_1072536389_n.jpg',\n",
       "  'https://s3-us-west-2.amazonaws.com/london-selfie/candidate-london-imgs/11887162_1656365894576155_1014317523_n.jpg',\n",
       "  'https://s3-us-west-2.amazonaws.com/london-selfie/candidate-london-imgs/11887162_1674093546161479_2089852731_n.jpg',\n",
       "  'https://s3-us-west-2.amazonaws.com/london-selfie/candidate-london-imgs/11887162_1912574038968598_1104177836_n.jpg',\n",
       "  'https://s3-us-west-2.amazonaws.com/london-selfie/candidate-london-imgs/11887162_404842663059066_1865494705_n.jpg',\n",
       "  'https://s3-us-west-2.amazonaws.com/london-selfie/candidate-london-imgs/11887164_1478058052498645_404850929_n.jpg',\n",
       "  'https://s3-us-west-2.amazonaws.com/london-selfie/candidate-london-imgs/11887164_157045567972251_1563581260_n.jpg',\n",
       "  'https://s3-us-west-2.amazonaws.com/london-selfie/candidate-london-imgs/11887164_1635937773356166_1525906499_n.jpg',\n",
       "  'https://s3-us-west-2.amazonaws.com/london-selfie/candidate-london-imgs/11887165_509417879225173_1308744964_n.jpg',\n",
       "  'https://s3-us-west-2.amazonaws.com/london-selfie/candidate-london-imgs/11887165_510680905763345_163461313_n.jpg',\n",
       "  'https://s3-us-west-2.amazonaws.com/london-selfie/candidate-london-imgs/11887165_838729016248469_2071438944_n.jpg',\n",
       "  'https://s3-us-west-2.amazonaws.com/london-selfie/candidate-london-imgs/11887166_687418164728790_968974052_n.jpg',\n",
       "  'https://s3-us-west-2.amazonaws.com/london-selfie/candidate-london-imgs/11887167_932107600188250_1019723082_n.jpg',\n",
       "  'image1'],\n",
       " ['https://s3-us-west-2.amazonaws.com/london-selfie/candidate-london-imgs/11887159_884018661705494_2035748543_n.jpg',\n",
       "  'https://s3-us-west-2.amazonaws.com/london-selfie/candidate-london-imgs/11887159_909256455828438_131534861_n.jpg',\n",
       "  'https://s3-us-west-2.amazonaws.com/london-selfie/candidate-london-imgs/11887160_1275582932479662_916936918_n.jpg',\n",
       "  'https://s3-us-west-2.amazonaws.com/london-selfie/candidate-london-imgs/11887160_1499394023710267_1980755282_n.jpg',\n",
       "  'https://s3-us-west-2.amazonaws.com/london-selfie/candidate-london-imgs/11887160_1501983606787578_97471191_n.jpg',\n",
       "  'https://s3-us-west-2.amazonaws.com/london-selfie/candidate-london-imgs/11887160_1687655524799074_715546773_n.jpg',\n",
       "  'https://s3-us-west-2.amazonaws.com/london-selfie/candidate-london-imgs/11887160_562781650542815_65410691_n.jpg',\n",
       "  'https://s3-us-west-2.amazonaws.com/london-selfie/candidate-london-imgs/11887160_679526052184371_393380622_n.jpg',\n",
       "  'https://s3-us-west-2.amazonaws.com/london-selfie/candidate-london-imgs/11887160_881563328607167_1080878540_n.jpg',\n",
       "  'https://s3-us-west-2.amazonaws.com/london-selfie/candidate-london-imgs/11887161_1702423679990840_1667603352_n.jpg',\n",
       "  'https://s3-us-west-2.amazonaws.com/london-selfie/candidate-london-imgs/11887161_534615710020577_238227425_n.jpg',\n",
       "  'https://s3-us-west-2.amazonaws.com/london-selfie/candidate-london-imgs/11887162_1501305726849257_1072536389_n.jpg',\n",
       "  'https://s3-us-west-2.amazonaws.com/london-selfie/candidate-london-imgs/11887162_1656365894576155_1014317523_n.jpg',\n",
       "  'https://s3-us-west-2.amazonaws.com/london-selfie/candidate-london-imgs/11887162_1674093546161479_2089852731_n.jpg',\n",
       "  'https://s3-us-west-2.amazonaws.com/london-selfie/candidate-london-imgs/11887162_1912574038968598_1104177836_n.jpg',\n",
       "  'https://s3-us-west-2.amazonaws.com/london-selfie/candidate-london-imgs/11887162_404842663059066_1865494705_n.jpg',\n",
       "  'https://s3-us-west-2.amazonaws.com/london-selfie/candidate-london-imgs/11887164_1478058052498645_404850929_n.jpg',\n",
       "  'https://s3-us-west-2.amazonaws.com/london-selfie/candidate-london-imgs/11887164_157045567972251_1563581260_n.jpg',\n",
       "  'https://s3-us-west-2.amazonaws.com/london-selfie/candidate-london-imgs/11887164_1635937773356166_1525906499_n.jpg',\n",
       "  'https://s3-us-west-2.amazonaws.com/london-selfie/candidate-london-imgs/11887165_509417879225173_1308744964_n.jpg',\n",
       "  'https://s3-us-west-2.amazonaws.com/london-selfie/candidate-london-imgs/11887165_510680905763345_163461313_n.jpg',\n",
       "  'https://s3-us-west-2.amazonaws.com/london-selfie/candidate-london-imgs/11887165_838729016248469_2071438944_n.jpg',\n",
       "  'https://s3-us-west-2.amazonaws.com/london-selfie/candidate-london-imgs/11887166_687418164728790_968974052_n.jpg',\n",
       "  'https://s3-us-west-2.amazonaws.com/london-selfie/candidate-london-imgs/11887167_932107600188250_1019723082_n.jpg',\n",
       "  'image1'],\n",
       " ['https://s3-us-west-2.amazonaws.com/london-selfie/candidate-london-imgs/11809889_1616680671914481_1934789630_n.jpg',\n",
       "  'https://s3-us-west-2.amazonaws.com/london-selfie/candidate-london-imgs/11809891_608121702662886_1792286807_n.jpg',\n",
       "  'https://s3-us-west-2.amazonaws.com/london-selfie/candidate-london-imgs/11809893_1041088099259429_1214883362_n.jpg',\n",
       "  'https://s3-us-west-2.amazonaws.com/london-selfie/candidate-london-imgs/11809893_1493959384233407_519214120_n.jpg',\n",
       "  'https://s3-us-west-2.amazonaws.com/london-selfie/candidate-london-imgs/11809893_509378699244896_1340713232_n.jpg',\n",
       "  'https://s3-us-west-2.amazonaws.com/london-selfie/candidate-london-imgs/11809894_1662136890722242_1420975941_n.jpg',\n",
       "  'https://s3-us-west-2.amazonaws.com/london-selfie/candidate-london-imgs/11809894_1676397172592481_474186110_n.jpg',\n",
       "  'https://s3-us-west-2.amazonaws.com/london-selfie/candidate-london-imgs/11809895_1664730813740145_956796804_n.jpg',\n",
       "  'https://s3-us-west-2.amazonaws.com/london-selfie/candidate-london-imgs/11809895_191195994545539_78027682_n.jpg',\n",
       "  'https://s3-us-west-2.amazonaws.com/london-selfie/candidate-london-imgs/11809896_1039414519426247_1358799692_n.jpg',\n",
       "  'https://s3-us-west-2.amazonaws.com/london-selfie/candidate-london-imgs/11809896_161554924187747_765682821_n.jpg',\n",
       "  'https://s3-us-west-2.amazonaws.com/london-selfie/candidate-london-imgs/11809896_185041428494884_1527921509_n.jpg',\n",
       "  'https://s3-us-west-2.amazonaws.com/london-selfie/candidate-london-imgs/11809897_162922697383583_2101352875_n.jpg',\n",
       "  'https://s3-us-west-2.amazonaws.com/london-selfie/candidate-london-imgs/11809897_1632095657058869_1939680387_n.jpg',\n",
       "  'https://s3-us-west-2.amazonaws.com/london-selfie/candidate-london-imgs/11809897_1673544246217597_660905272_n.jpg',\n",
       "  'https://s3-us-west-2.amazonaws.com/london-selfie/candidate-london-imgs/11809897_788099987974126_475008104_n.jpg',\n",
       "  'https://s3-us-west-2.amazonaws.com/london-selfie/candidate-london-imgs/11809898_1647422705504961_1577139423_n.jpg',\n",
       "  'https://s3-us-west-2.amazonaws.com/london-selfie/candidate-london-imgs/11809898_1690103934551813_1708687543_n.jpg',\n",
       "  'https://s3-us-west-2.amazonaws.com/london-selfie/candidate-london-imgs/11809898_695307373902496_534421557_n.jpg',\n",
       "  'https://s3-us-west-2.amazonaws.com/london-selfie/candidate-london-imgs/11809900_963164777075190_414444396_n.jpg',\n",
       "  'https://s3-us-west-2.amazonaws.com/london-selfie/candidate-london-imgs/11809902_1674904726100633_513926229_n.jpg',\n",
       "  'https://s3-us-west-2.amazonaws.com/london-selfie/candidate-london-imgs/11809902_901822759854951_1317443757_n.jpg',\n",
       "  'https://s3-us-west-2.amazonaws.com/london-selfie/candidate-london-imgs/11809904_1638480596406994_1058358433_n.jpg',\n",
       "  'https://s3-us-west-2.amazonaws.com/london-selfie/candidate-london-imgs/11809905_401662250034713_650726441_n.jpg',\n",
       "  'image2|image8']]"
      ]
     },
     "execution_count": 10,
     "metadata": {},
     "output_type": "execute_result"
    }
   ],
   "source": [
    "relevant_results[:4]"
   ]
  },
  {
   "cell_type": "code",
   "execution_count": 11,
   "metadata": {
    "collapsed": false
   },
   "outputs": [],
   "source": [
    "def parse_ans(ans):\n",
    "    answers = ans.split(\"|\")\n",
    "    ans_int = [int(answer.split(\"image\")[-1]) -1 for answer in answers]\n",
    "    return ans_int"
   ]
  },
  {
   "cell_type": "code",
   "execution_count": 12,
   "metadata": {
    "collapsed": false
   },
   "outputs": [
    {
     "data": {
      "text/plain": [
       "[10, 21]"
      ]
     },
     "execution_count": 12,
     "metadata": {},
     "output_type": "execute_result"
    }
   ],
   "source": [
    "parse_ans(relevant_results[-1][-1])"
   ]
  },
  {
   "cell_type": "code",
   "execution_count": 13,
   "metadata": {
    "collapsed": false
   },
   "outputs": [
    {
     "data": {
      "text/plain": [
       "['https://s3-us-west-2.amazonaws.com/london-selfie/candidate-london-imgs/11856788_1642488876040630_1011565607_n.jpg',\n",
       " 'https://s3-us-west-2.amazonaws.com/london-selfie/candidate-london-imgs/11856788_1650172111887903_189748558_n.jpg',\n",
       " 'https://s3-us-west-2.amazonaws.com/london-selfie/candidate-london-imgs/11856788_1659495754266582_1429035119_n.jpg',\n",
       " 'https://s3-us-west-2.amazonaws.com/london-selfie/candidate-london-imgs/11856788_549400848549201_1071481533_n.jpg',\n",
       " 'https://s3-us-west-2.amazonaws.com/london-selfie/candidate-london-imgs/11856788_892072767549830_1961131617_n.jpg',\n",
       " 'https://s3-us-west-2.amazonaws.com/london-selfie/candidate-london-imgs/11856789_1063995906974556_1024538572_n.jpg',\n",
       " 'https://s3-us-west-2.amazonaws.com/london-selfie/candidate-london-imgs/11856789_1502236156741884_1436290929_n.jpg',\n",
       " 'https://s3-us-west-2.amazonaws.com/london-selfie/candidate-london-imgs/11856790_136027940080249_1792603812_n.jpg',\n",
       " 'https://s3-us-west-2.amazonaws.com/london-selfie/candidate-london-imgs/11856790_1490513021243544_722606790_n.jpg',\n",
       " 'https://s3-us-west-2.amazonaws.com/london-selfie/candidate-london-imgs/11856790_1501094076876564_2064101990_n.jpg',\n",
       " 'https://s3-us-west-2.amazonaws.com/london-selfie/candidate-london-imgs/11856790_1641701689446185_874969203_n.jpg',\n",
       " 'https://s3-us-west-2.amazonaws.com/london-selfie/candidate-london-imgs/11856790_1701168870115446_1948157688_n.jpg',\n",
       " 'https://s3-us-west-2.amazonaws.com/london-selfie/candidate-london-imgs/11856790_517197195113994_1307803600_n.jpg',\n",
       " 'https://s3-us-west-2.amazonaws.com/london-selfie/candidate-london-imgs/11856791_1626845480937632_1976614586_n.jpg',\n",
       " 'https://s3-us-west-2.amazonaws.com/london-selfie/candidate-london-imgs/11856791_174267469576052_986597384_n.jpg',\n",
       " 'https://s3-us-west-2.amazonaws.com/london-selfie/candidate-london-imgs/11856793_1501518230160379_1695361601_n.jpg',\n",
       " 'https://s3-us-west-2.amazonaws.com/london-selfie/candidate-london-imgs/11856793_1664100383806500_1255661340_n.jpg',\n",
       " 'https://s3-us-west-2.amazonaws.com/london-selfie/candidate-london-imgs/11856793_1672776906331749_656717361_n.jpg',\n",
       " 'https://s3-us-west-2.amazonaws.com/london-selfie/candidate-london-imgs/11856793_456231861215997_1496676477_n.jpg',\n",
       " 'https://s3-us-west-2.amazonaws.com/london-selfie/candidate-london-imgs/11856793_834019523384361_1621349928_n.jpg',\n",
       " 'https://s3-us-west-2.amazonaws.com/london-selfie/candidate-london-imgs/11856795_1095868513771664_2132603709_n.jpg',\n",
       " 'https://s3-us-west-2.amazonaws.com/london-selfie/candidate-london-imgs/11856795_1637510759852365_726904283_n.jpg',\n",
       " 'https://s3-us-west-2.amazonaws.com/london-selfie/candidate-london-imgs/11856795_1651898348355836_2083861956_n.jpg',\n",
       " 'https://s3-us-west-2.amazonaws.com/london-selfie/candidate-london-imgs/11856795_969302336468410_45565991_n.jpg',\n",
       " 'image11|image22']"
      ]
     },
     "execution_count": 13,
     "metadata": {},
     "output_type": "execute_result"
    }
   ],
   "source": [
    "relevant_results[-1]"
   ]
  },
  {
   "cell_type": "code",
   "execution_count": 14,
   "metadata": {
    "collapsed": false
   },
   "outputs": [],
   "source": [
    "candidate_images = []\n",
    "for relevant_result in relevant_results:\n",
    "    indx = parse_ans(relevant_result[-1])\n",
    "    candidate_images.extend([relevant_result[i] for i in indx])"
   ]
  },
  {
   "cell_type": "code",
   "execution_count": 15,
   "metadata": {
    "collapsed": false
   },
   "outputs": [
    {
     "data": {
      "text/plain": [
       "2520"
      ]
     },
     "execution_count": 15,
     "metadata": {},
     "output_type": "execute_result"
    }
   ],
   "source": [
    "len(set(candidate_images))"
   ]
  },
  {
   "cell_type": "code",
   "execution_count": 16,
   "metadata": {
    "collapsed": true
   },
   "outputs": [],
   "source": [
    "image_counts = [candidate_images.count(candidate_image) for candidate_image in candidate_images]"
   ]
  },
  {
   "cell_type": "code",
   "execution_count": 17,
   "metadata": {
    "collapsed": false
   },
   "outputs": [],
   "source": [
    "results_df = pd.DataFrame({'image_url': candidate_images, 'num_votes': image_counts})"
   ]
  },
  {
   "cell_type": "code",
   "execution_count": 18,
   "metadata": {
    "collapsed": false
   },
   "outputs": [
    {
     "data": {
      "text/plain": [
       "(5607, 2)"
      ]
     },
     "execution_count": 18,
     "metadata": {},
     "output_type": "execute_result"
    }
   ],
   "source": [
    "results_df.shape"
   ]
  },
  {
   "cell_type": "code",
   "execution_count": 19,
   "metadata": {
    "collapsed": false
   },
   "outputs": [
    {
     "data": {
      "text/plain": [
       "(2520, 2)"
      ]
     },
     "execution_count": 19,
     "metadata": {},
     "output_type": "execute_result"
    }
   ],
   "source": [
    "results_df.drop_duplicates(inplace = True)\n",
    "results_df.shape"
   ]
  },
  {
   "cell_type": "code",
   "execution_count": 20,
   "metadata": {
    "collapsed": false
   },
   "outputs": [
    {
     "name": "stdout",
     "output_type": "stream",
     "text": [
      "2520\n",
      "1784\n"
     ]
    }
   ],
   "source": [
    "one_vote_images = list(results_df[results_df.num_votes > 0][\"image_url\"])\n",
    "two_vote_images = list(results_df[results_df.num_votes > 1][\"image_url\"])\n",
    "print len(one_vote_images)\n",
    "print len(two_vote_images)"
   ]
  },
  {
   "cell_type": "code",
   "execution_count": 21,
   "metadata": {
    "collapsed": false
   },
   "outputs": [
    {
     "data": {
      "text/html": [
       "<div>\n",
       "<table border=\"1\" class=\"dataframe\">\n",
       "  <thead>\n",
       "    <tr style=\"text-align: right;\">\n",
       "      <th></th>\n",
       "      <th>image_url</th>\n",
       "    </tr>\n",
       "  </thead>\n",
       "  <tbody>\n",
       "    <tr>\n",
       "      <th>0</th>\n",
       "      <td>https://s3-us-west-2.amazonaws.com/london-self...</td>\n",
       "    </tr>\n",
       "    <tr>\n",
       "      <th>1</th>\n",
       "      <td>https://s3-us-west-2.amazonaws.com/london-self...</td>\n",
       "    </tr>\n",
       "    <tr>\n",
       "      <th>2</th>\n",
       "      <td>https://s3-us-west-2.amazonaws.com/london-self...</td>\n",
       "    </tr>\n",
       "    <tr>\n",
       "      <th>3</th>\n",
       "      <td>https://s3-us-west-2.amazonaws.com/london-self...</td>\n",
       "    </tr>\n",
       "    <tr>\n",
       "      <th>4</th>\n",
       "      <td>https://s3-us-west-2.amazonaws.com/london-self...</td>\n",
       "    </tr>\n",
       "  </tbody>\n",
       "</table>\n",
       "</div>"
      ],
      "text/plain": [
       "                                           image_url\n",
       "0  https://s3-us-west-2.amazonaws.com/london-self...\n",
       "1  https://s3-us-west-2.amazonaws.com/london-self...\n",
       "2  https://s3-us-west-2.amazonaws.com/london-self...\n",
       "3  https://s3-us-west-2.amazonaws.com/london-self...\n",
       "4  https://s3-us-west-2.amazonaws.com/london-self..."
      ]
     },
     "execution_count": 21,
     "metadata": {},
     "output_type": "execute_result"
    }
   ],
   "source": [
    "candidate_df = pd.read_csv(\"../data/london-image-candidates.csv\")\n",
    "candidate_df.head()"
   ]
  },
  {
   "cell_type": "code",
   "execution_count": 22,
   "metadata": {
    "collapsed": false
   },
   "outputs": [
    {
     "name": "stdout",
     "output_type": "stream",
     "text": [
      "(24886, 1)\n",
      "24886\n",
      "22366\n",
      "23102\n"
     ]
    }
   ],
   "source": [
    "zero_vote_candidates = list(candidate_df.image_url)\n",
    "one_vote_candidates = list(set(list(candidate_df.image_url)) - set(one_vote_images))\n",
    "two_vote_candidates = list(set(list(candidate_df.image_url)) - set(two_vote_images))\n",
    "\n",
    "print candidate_df.shape\n",
    "print len(zero_vote_candidates)\n",
    "print len(one_vote_candidates)\n",
    "print len(two_vote_candidates)"
   ]
  },
  {
   "cell_type": "code",
   "execution_count": 92,
   "metadata": {
    "collapsed": false
   },
   "outputs": [
    {
     "data": {
      "text/html": [
       "<div>\n",
       "<table border=\"1\" class=\"dataframe\">\n",
       "  <thead>\n",
       "    <tr style=\"text-align: right;\">\n",
       "      <th></th>\n",
       "      <th>image.sample</th>\n",
       "      <th>single.face</th>\n",
       "      <th>mult.faces</th>\n",
       "      <th>binary.face</th>\n",
       "    </tr>\n",
       "  </thead>\n",
       "  <tbody>\n",
       "    <tr>\n",
       "      <th>0</th>\n",
       "      <td>0110b366b08a11e3977912351092712f_8.jpg</td>\n",
       "      <td>0</td>\n",
       "      <td>0</td>\n",
       "      <td>0</td>\n",
       "    </tr>\n",
       "    <tr>\n",
       "      <th>1</th>\n",
       "      <td>06348a0aba5a11e3ae221212d5b5af4c_8.jpg</td>\n",
       "      <td>0</td>\n",
       "      <td>0</td>\n",
       "      <td>0</td>\n",
       "    </tr>\n",
       "    <tr>\n",
       "      <th>2</th>\n",
       "      <td>0b1ad096c62c11e3928c0002c99cbb0a_8.jpg</td>\n",
       "      <td>0</td>\n",
       "      <td>0</td>\n",
       "      <td>0</td>\n",
       "    </tr>\n",
       "    <tr>\n",
       "      <th>3</th>\n",
       "      <td>10175147_636711856403365_397404597_n.jpg</td>\n",
       "      <td>0</td>\n",
       "      <td>0</td>\n",
       "      <td>0</td>\n",
       "    </tr>\n",
       "    <tr>\n",
       "      <th>4</th>\n",
       "      <td>10175341_245502988988606_1393079443_n.jpg</td>\n",
       "      <td>0</td>\n",
       "      <td>0</td>\n",
       "      <td>0</td>\n",
       "    </tr>\n",
       "  </tbody>\n",
       "</table>\n",
       "</div>"
      ],
      "text/plain": [
       "                                image.sample  single.face  mult.faces  \\\n",
       "0     0110b366b08a11e3977912351092712f_8.jpg            0           0   \n",
       "1     06348a0aba5a11e3ae221212d5b5af4c_8.jpg            0           0   \n",
       "2     0b1ad096c62c11e3928c0002c99cbb0a_8.jpg            0           0   \n",
       "3   10175147_636711856403365_397404597_n.jpg            0           0   \n",
       "4  10175341_245502988988606_1393079443_n.jpg            0           0   \n",
       "\n",
       "   binary.face  \n",
       "0            0  \n",
       "1            0  \n",
       "2            0  \n",
       "3            0  \n",
       "4            0  "
      ]
     },
     "execution_count": 92,
     "metadata": {},
     "output_type": "execute_result"
    }
   ],
   "source": [
    "alise = pd.read_csv(\"../data/Alise-broadway-labels.csv\")\n",
    "alise.head()"
   ]
  },
  {
   "cell_type": "code",
   "execution_count": 93,
   "metadata": {
    "collapsed": true
   },
   "outputs": [],
   "source": [
    "zero_vote_candidates_clean = [zero_vote_candidate.split(\"/\")[-1] for zero_vote_candidate in zero_vote_candidates]\n",
    "one_vote_candidates_clean = [one_vote_candidate.split(\"/\")[-1] for one_vote_candidate in one_vote_candidates]\n",
    "two_vote_candidates_clean = [two_vote_candidate.split(\"/\")[-1] for two_vote_candidate in two_vote_candidates]\n"
   ]
  },
  {
   "cell_type": "code",
   "execution_count": 99,
   "metadata": {
    "collapsed": false
   },
   "outputs": [],
   "source": [
    "alise[\"zero.vote\"] = 0\n",
    "alise.loc[alise[\"image.sample\"].isin(zero_vote_candidates_clean),\"zero.vote\"] = 1"
   ]
  },
  {
   "cell_type": "code",
   "execution_count": 101,
   "metadata": {
    "collapsed": false
   },
   "outputs": [],
   "source": [
    "alise[\"one.vote\"] = 0\n",
    "alise.loc[alise[\"image.sample\"].isin(one_vote_candidates_clean),\"one.vote\"] = 1"
   ]
  },
  {
   "cell_type": "code",
   "execution_count": 102,
   "metadata": {
    "collapsed": true
   },
   "outputs": [],
   "source": [
    "alise[\"two.vote\"] = 0\n",
    "alise.loc[alise[\"image.sample\"].isin(two_vote_candidates_clean),\"two.vote\"] = 1"
   ]
  },
  {
   "cell_type": "code",
   "execution_count": 103,
   "metadata": {
    "collapsed": false
   },
   "outputs": [
    {
     "data": {
      "text/html": [
       "<div>\n",
       "<table border=\"1\" class=\"dataframe\">\n",
       "  <thead>\n",
       "    <tr style=\"text-align: right;\">\n",
       "      <th></th>\n",
       "      <th>image.sample</th>\n",
       "      <th>single.face</th>\n",
       "      <th>mult.faces</th>\n",
       "      <th>binary.face</th>\n",
       "      <th>zero.vote</th>\n",
       "      <th>one.vote</th>\n",
       "      <th>two.vote</th>\n",
       "    </tr>\n",
       "  </thead>\n",
       "  <tbody>\n",
       "    <tr>\n",
       "      <th>0</th>\n",
       "      <td>0110b366b08a11e3977912351092712f_8.jpg</td>\n",
       "      <td>0</td>\n",
       "      <td>0</td>\n",
       "      <td>0</td>\n",
       "      <td>0</td>\n",
       "      <td>0</td>\n",
       "      <td>0</td>\n",
       "    </tr>\n",
       "    <tr>\n",
       "      <th>1</th>\n",
       "      <td>06348a0aba5a11e3ae221212d5b5af4c_8.jpg</td>\n",
       "      <td>0</td>\n",
       "      <td>0</td>\n",
       "      <td>0</td>\n",
       "      <td>0</td>\n",
       "      <td>0</td>\n",
       "      <td>0</td>\n",
       "    </tr>\n",
       "    <tr>\n",
       "      <th>2</th>\n",
       "      <td>0b1ad096c62c11e3928c0002c99cbb0a_8.jpg</td>\n",
       "      <td>0</td>\n",
       "      <td>0</td>\n",
       "      <td>0</td>\n",
       "      <td>0</td>\n",
       "      <td>0</td>\n",
       "      <td>0</td>\n",
       "    </tr>\n",
       "    <tr>\n",
       "      <th>3</th>\n",
       "      <td>10175147_636711856403365_397404597_n.jpg</td>\n",
       "      <td>0</td>\n",
       "      <td>0</td>\n",
       "      <td>0</td>\n",
       "      <td>1</td>\n",
       "      <td>0</td>\n",
       "      <td>0</td>\n",
       "    </tr>\n",
       "    <tr>\n",
       "      <th>4</th>\n",
       "      <td>10175341_245502988988606_1393079443_n.jpg</td>\n",
       "      <td>0</td>\n",
       "      <td>0</td>\n",
       "      <td>0</td>\n",
       "      <td>0</td>\n",
       "      <td>0</td>\n",
       "      <td>0</td>\n",
       "    </tr>\n",
       "  </tbody>\n",
       "</table>\n",
       "</div>"
      ],
      "text/plain": [
       "                                image.sample  single.face  mult.faces  \\\n",
       "0     0110b366b08a11e3977912351092712f_8.jpg            0           0   \n",
       "1     06348a0aba5a11e3ae221212d5b5af4c_8.jpg            0           0   \n",
       "2     0b1ad096c62c11e3928c0002c99cbb0a_8.jpg            0           0   \n",
       "3   10175147_636711856403365_397404597_n.jpg            0           0   \n",
       "4  10175341_245502988988606_1393079443_n.jpg            0           0   \n",
       "\n",
       "   binary.face  zero.vote  one.vote  two.vote  \n",
       "0            0          0         0         0  \n",
       "1            0          0         0         0  \n",
       "2            0          0         0         0  \n",
       "3            0          1         0         0  \n",
       "4            0          0         0         0  "
      ]
     },
     "execution_count": 103,
     "metadata": {},
     "output_type": "execute_result"
    }
   ],
   "source": [
    "alise.head()"
   ]
  },
  {
   "cell_type": "code",
   "execution_count": 107,
   "metadata": {
    "collapsed": false
   },
   "outputs": [],
   "source": [
    "y = np.array(alise[\"binary.face\"])\n",
    "y_pred_zero = np.array(alise[\"zero.vote\"])\n",
    "y_pred_one = np.array(alise[\"one.vote\"])\n",
    "y_pred_two = np.array(alise[\"two.vote\"])"
   ]
  },
  {
   "cell_type": "code",
   "execution_count": 108,
   "metadata": {
    "collapsed": false
   },
   "outputs": [
    {
     "name": "stdout",
     "output_type": "stream",
     "text": [
      "             precision    recall  f1-score   support\n",
      "\n",
      "          0       0.71      0.96      0.82      2087\n",
      "          1       0.88      0.42      0.57      1412\n",
      "\n",
      "avg / total       0.78      0.74      0.72      3499\n",
      "\n"
     ]
    }
   ],
   "source": [
    "print(classification_report(y, y_pred_zero))"
   ]
  },
  {
   "cell_type": "code",
   "execution_count": 109,
   "metadata": {
    "collapsed": false
   },
   "outputs": [
    {
     "name": "stdout",
     "output_type": "stream",
     "text": [
      "             precision    recall  f1-score   support\n",
      "\n",
      "          0       0.70      0.99      0.82      2087\n",
      "          1       0.98      0.36      0.53      1412\n",
      "\n",
      "avg / total       0.81      0.74      0.70      3499\n",
      "\n"
     ]
    }
   ],
   "source": [
    "print(classification_report(y, y_pred_one))"
   ]
  },
  {
   "cell_type": "code",
   "execution_count": 110,
   "metadata": {
    "collapsed": false
   },
   "outputs": [
    {
     "name": "stdout",
     "output_type": "stream",
     "text": [
      "             precision    recall  f1-score   support\n",
      "\n",
      "          0       0.71      0.99      0.83      2087\n",
      "          1       0.97      0.41      0.57      1412\n",
      "\n",
      "avg / total       0.82      0.76      0.72      3499\n",
      "\n"
     ]
    }
   ],
   "source": [
    "print(classification_report(y, y_pred_two))"
   ]
  },
  {
   "cell_type": "code",
   "execution_count": null,
   "metadata": {
    "collapsed": true
   },
   "outputs": [],
   "source": []
  }
 ],
 "metadata": {
  "kernelspec": {
   "display_name": "Python 2",
   "language": "python",
   "name": "python2"
  },
  "language_info": {
   "codemirror_mode": {
    "name": "ipython",
    "version": 2
   },
   "file_extension": ".py",
   "mimetype": "text/x-python",
   "name": "python",
   "nbconvert_exporter": "python",
   "pygments_lexer": "ipython2",
   "version": "2.7.10"
  }
 },
 "nbformat": 4,
 "nbformat_minor": 0
}
