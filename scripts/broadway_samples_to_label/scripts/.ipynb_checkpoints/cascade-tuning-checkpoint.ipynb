{
 "cells": [
  {
   "cell_type": "code",
   "execution_count": 2,
   "metadata": {
    "collapsed": false
   },
   "outputs": [],
   "source": [
    "import cv2\n",
    "from pylab import *\n",
    "import os\n",
    "from nike_detector import NikeDetector\n",
    "from sklearn.grid_search import GridSearchCV\n",
    "from sklearn.metrics import classification_report\n",
    "import pandas as pd\n",
    "%matplotlib inline"
   ]
  },
  {
   "cell_type": "code",
   "execution_count": 5,
   "metadata": {
    "collapsed": false
   },
   "outputs": [
    {
     "data": {
      "text/html": [
       "<div>\n",
       "<table border=\"1\" class=\"dataframe\">\n",
       "  <thead>\n",
       "    <tr style=\"text-align: right;\">\n",
       "      <th></th>\n",
       "      <th>C:\\Users\\Hon Sun\\Desktop\\Alise\\Manovich\\on broadway nypl\\1 or 2 faces\\broadway_samples_to_label\\00_1_face\\00f371baaa5011e38ccb1274fdecaae3_8.jpg</th>\n",
       "    </tr>\n",
       "  </thead>\n",
       "  <tbody>\n",
       "    <tr>\n",
       "      <th>0</th>\n",
       "      <td>C:\\Users\\Hon Sun\\Desktop\\Alise\\Manovich\\on bro...</td>\n",
       "    </tr>\n",
       "    <tr>\n",
       "      <th>1</th>\n",
       "      <td>C:\\Users\\Hon Sun\\Desktop\\Alise\\Manovich\\on bro...</td>\n",
       "    </tr>\n",
       "    <tr>\n",
       "      <th>2</th>\n",
       "      <td>C:\\Users\\Hon Sun\\Desktop\\Alise\\Manovich\\on bro...</td>\n",
       "    </tr>\n",
       "    <tr>\n",
       "      <th>3</th>\n",
       "      <td>C:\\Users\\Hon Sun\\Desktop\\Alise\\Manovich\\on bro...</td>\n",
       "    </tr>\n",
       "    <tr>\n",
       "      <th>4</th>\n",
       "      <td>C:\\Users\\Hon Sun\\Desktop\\Alise\\Manovich\\on bro...</td>\n",
       "    </tr>\n",
       "  </tbody>\n",
       "</table>\n",
       "</div>"
      ],
      "text/plain": [
       "  C:\\Users\\Hon Sun\\Desktop\\Alise\\Manovich\\on broadway nypl\\1 or 2 faces\\broadway_samples_to_label\\00_1_face\\00f371baaa5011e38ccb1274fdecaae3_8.jpg \n",
       "0  C:\\Users\\Hon Sun\\Desktop\\Alise\\Manovich\\on bro...                                                                                               \n",
       "1  C:\\Users\\Hon Sun\\Desktop\\Alise\\Manovich\\on bro...                                                                                               \n",
       "2  C:\\Users\\Hon Sun\\Desktop\\Alise\\Manovich\\on bro...                                                                                               \n",
       "3  C:\\Users\\Hon Sun\\Desktop\\Alise\\Manovich\\on bro...                                                                                               \n",
       "4  C:\\Users\\Hon Sun\\Desktop\\Alise\\Manovich\\on bro...                                                                                               "
      ]
     },
     "execution_count": 5,
     "metadata": {},
     "output_type": "execute_result"
    }
   ],
   "source": [
    "single_face_df = pd.read_csv(\"../data-labels/AliseLabels_raw/00_1_face_textfile.txt\", header = False)\n",
    "single_face_df.head()"
   ]
  },
  {
   "cell_type": "code",
   "execution_count": null,
   "metadata": {
    "collapsed": true
   },
   "outputs": [],
   "source": [
    "def return_paths(src_path, image_type = (\".jpg\", \".png\")):\n",
    "    image_paths = []  \n",
    "    for root, dirs, files in os.walk(src_path):\n",
    "        image_paths.extend([os.path.join(root, f) for f in files if f.endswith(image_type)])\n",
    "    return image_paths"
   ]
  },
  {
   "cell_type": "markdown",
   "metadata": {},
   "source": [
    "# Gridsearch for best parameters"
   ]
  },
  {
   "cell_type": "code",
   "execution_count": null,
   "metadata": {
    "collapsed": false
   },
   "outputs": [],
   "source": [
    "# Get train data\n",
    "nike_train_paths = return_paths(\"/Users/myazdaniUCSD/Documents/misc_work/BEHAVE/Jul13/image_train/Nike/\")\n",
    "other_train_paths_1 = return_paths(\"/Users/myazdaniUCSD/Documents/misc_work/BEHAVE/Jul13/image_train/Adidas/\")\n",
    "other_train_paths_2 = return_paths(\"/Users/myazdaniUCSD/Documents/misc_work/BEHAVE/Jul13/image_train/Other/\")\n",
    "other_train_paths_3 = return_paths(\"/Users/myazdaniUCSD/Documents/misc_work/BEHAVE/Jul13/image_train/Puma/\")\n",
    "other_train_paths_4 = return_paths(\"/Users/myazdaniUCSD/Documents/misc_work/BEHAVE/Jul13/image_train/Reebok/\")\n",
    "other_train_paths = [other_train_paths_1, other_train_paths_2, other_train_paths_3, other_train_paths_4]\n",
    "other_train_paths = [item for sublist in other_train_paths for item in sublist]"
   ]
  },
  {
   "cell_type": "code",
   "execution_count": null,
   "metadata": {
    "collapsed": true
   },
   "outputs": [],
   "source": [
    "# Get test data\n",
    "nike_test_paths = return_paths(\"/Users/myazdaniUCSD/Documents/misc_work/BEHAVE/Jul13/image_test/Nike/\")\n",
    "other_test_paths_1 = return_paths(\"/Users/myazdaniUCSD/Documents/misc_work/BEHAVE/Jul13/image_test/Adidas/\")\n",
    "other_test_paths_2 = return_paths(\"/Users/myazdaniUCSD/Documents/misc_work/BEHAVE/Jul13/image_test/Other/\")\n",
    "other_test_paths_3 = return_paths(\"/Users/myazdaniUCSD/Documents/misc_work/BEHAVE/Jul13/image_test/Puma/\")\n",
    "other_test_paths_4 = return_paths(\"/Users/myazdaniUCSD/Documents/misc_work/BEHAVE/Jul13/image_test/Reebok/\")\n",
    "other_test_paths = [other_test_paths_1, other_test_paths_2, other_test_paths_3, other_test_paths_4]\n",
    "other_test_paths = [item for sublist in other_test_paths for item in sublist]"
   ]
  },
  {
   "cell_type": "code",
   "execution_count": null,
   "metadata": {
    "collapsed": false
   },
   "outputs": [],
   "source": [
    "X_train = [nike_train_paths, other_train_paths]\n",
    "X_train = [item for sublist in X_train for item in sublist]\n",
    "y_train = zeros((1, len(X_train))).ravel()\n",
    "y_train[0:len(nike_train_paths)] = 1"
   ]
  },
  {
   "cell_type": "code",
   "execution_count": null,
   "metadata": {
    "collapsed": true
   },
   "outputs": [],
   "source": [
    "X_test = [nike_test_paths, other_test_paths]\n",
    "X_test = [item for sublist in X_test for item in sublist]\n",
    "y_test = zeros((1,len(X_test))).ravel()\n",
    "y_test[0:len(nike_test_paths)] = 1"
   ]
  },
  {
   "cell_type": "code",
   "execution_count": null,
   "metadata": {
    "collapsed": false
   },
   "outputs": [],
   "source": [
    "classifier_path = \"../opencv/data_2K_stage21/cascade.xml\"\n",
    "nikeCascade = NikeDetector(classifier_path)\n",
    "tuned_params = {\"minNeighbors\" : range(3,9), \"scaleFactor\": linspace(1.01, 1.2, 11)}"
   ]
  },
  {
   "cell_type": "code",
   "execution_count": null,
   "metadata": {
    "collapsed": false
   },
   "outputs": [],
   "source": [
    "gs = GridSearchCV(nikeCascade, tuned_params, scoring = \"precision_weighted\")\n",
    "gs.fit(X_train, y_train)\n",
    "print \"best param is:\", gs.best_params_\n",
    "print \"best score is:\", gs.best_score_"
   ]
  },
  {
   "cell_type": "code",
   "execution_count": null,
   "metadata": {
    "collapsed": false
   },
   "outputs": [],
   "source": [
    "nikeCascade = NikeRotateDetector(classifier_path, minNeighbors = 2,  scaleFactor=1.028, maxAngle = 200, angleStepSize = 10)\n",
    "#nikeCascade = NikeDetector(classifier_path, minNeighbors = 3,  scaleFactor=1.028)\n",
    "y_pred = nikeCascade.predict(X_test)\n",
    "print(classification_report(y_test, array(y_pred)))"
   ]
  },
  {
   "cell_type": "markdown",
   "metadata": {
    "collapsed": true
   },
   "source": [
    "# \"Hold\" out set"
   ]
  },
  {
   "cell_type": "code",
   "execution_count": null,
   "metadata": {
    "collapsed": true
   },
   "outputs": [],
   "source": [
    "X_hold_out = return_paths(\"../../real-world/Nike_JP/\")"
   ]
  },
  {
   "cell_type": "code",
   "execution_count": null,
   "metadata": {
    "collapsed": false
   },
   "outputs": [],
   "source": [
    "nikeCascade = NikeDetector(classifier_path, minNeighbors = 5, scaleFactor=1.1)\n",
    "y_pred = nikeCascade.predict(X_hold_out)"
   ]
  },
  {
   "cell_type": "code",
   "execution_count": null,
   "metadata": {
    "collapsed": false
   },
   "outputs": [],
   "source": [
    "print(classification_report(ones((len(y_pred),1)), array(y_pred)))"
   ]
  },
  {
   "cell_type": "code",
   "execution_count": null,
   "metadata": {
    "collapsed": false
   },
   "outputs": [],
   "source": [
    "y_pred"
   ]
  },
  {
   "cell_type": "code",
   "execution_count": null,
   "metadata": {
    "collapsed": true
   },
   "outputs": [],
   "source": []
  },
  {
   "cell_type": "code",
   "execution_count": null,
   "metadata": {
    "collapsed": false
   },
   "outputs": [],
   "source": [
    "linspace(1.1, 1.13, 11)"
   ]
  },
  {
   "cell_type": "code",
   "execution_count": null,
   "metadata": {
    "collapsed": true
   },
   "outputs": [],
   "source": []
  }
 ],
 "metadata": {
  "kernelspec": {
   "display_name": "Python 2",
   "language": "python",
   "name": "python2"
  },
  "language_info": {
   "codemirror_mode": {
    "name": "ipython",
    "version": 2
   },
   "file_extension": ".py",
   "mimetype": "text/x-python",
   "name": "python",
   "nbconvert_exporter": "python",
   "pygments_lexer": "ipython2",
   "version": "2.7.10"
  }
 },
 "nbformat": 4,
 "nbformat_minor": 0
}
