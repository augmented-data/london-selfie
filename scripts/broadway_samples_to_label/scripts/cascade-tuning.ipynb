{
 "cells": [
  {
   "cell_type": "code",
   "execution_count": 1,
   "metadata": {
    "collapsed": false
   },
   "outputs": [],
   "source": [
    "import cv2\n",
    "from pylab import *\n",
    "import os\n",
    "from FaceDetector import FaceDetector\n",
    "from sklearn.grid_search import GridSearchCV\n",
    "from sklearn.metrics import classification_report\n",
    "import pandas as pd\n",
    "%matplotlib inline"
   ]
  },
  {
   "cell_type": "code",
   "execution_count": 2,
   "metadata": {
    "collapsed": false
   },
   "outputs": [],
   "source": [
    "single_face_df = pd.read_csv(\"../data-labels/AliseLabels_raw/00_1_face_textfile.txt\", header = None)\n",
    "mult_face_df = pd.read_csv(\"../data-labels/AliseLabels_raw/00_2_or_more_textfile.txt\", header = None)\n",
    "\n",
    "single_face_df[\"filename\"] = single_face_df[0].apply(lambda s: s.split(\"\\\\\")[-1].strip())\n",
    "mult_face_df[\"filename\"] = mult_face_df[0].apply(lambda s: s.split(\"\\\\\")[-1].strip())\n",
    "\n",
    "single_face_df = single_face_df[:-1]\n",
    "mult_face_df = mult_face_df[:-1]\n"
   ]
  },
  {
   "cell_type": "code",
   "execution_count": 3,
   "metadata": {
    "collapsed": true
   },
   "outputs": [],
   "source": [
    "def return_paths(src_path, image_type = (\".jpg\", \".png\")):\n",
    "    image_paths = []  \n",
    "    for root, dirs, files in os.walk(src_path):\n",
    "        image_paths.extend([os.path.join(root, f) for f in files if f.endswith(image_type)])\n",
    "    return image_paths"
   ]
  },
  {
   "cell_type": "code",
   "execution_count": 4,
   "metadata": {
    "collapsed": false
   },
   "outputs": [],
   "source": [
    "image_paths = return_paths(\"../images/\")\n",
    "image_samples = [image_path.split(\"/\")[-1] for image_path in image_paths]"
   ]
  },
  {
   "cell_type": "code",
   "execution_count": 5,
   "metadata": {
    "collapsed": false
   },
   "outputs": [],
   "source": [
    "df = pd.DataFrame({\"image.sample\": image_samples}, index = image_samples)"
   ]
  },
  {
   "cell_type": "code",
   "execution_count": 6,
   "metadata": {
    "collapsed": false
   },
   "outputs": [
    {
     "data": {
      "text/html": [
       "<div>\n",
       "<table border=\"1\" class=\"dataframe\">\n",
       "  <thead>\n",
       "    <tr style=\"text-align: right;\">\n",
       "      <th></th>\n",
       "      <th>image.sample</th>\n",
       "      <th>single.face</th>\n",
       "      <th>mult.faces</th>\n",
       "    </tr>\n",
       "  </thead>\n",
       "  <tbody>\n",
       "    <tr>\n",
       "      <th>0110b366b08a11e3977912351092712f_8.jpg</th>\n",
       "      <td>0110b366b08a11e3977912351092712f_8.jpg</td>\n",
       "      <td>0</td>\n",
       "      <td>0</td>\n",
       "    </tr>\n",
       "    <tr>\n",
       "      <th>06348a0aba5a11e3ae221212d5b5af4c_8.jpg</th>\n",
       "      <td>06348a0aba5a11e3ae221212d5b5af4c_8.jpg</td>\n",
       "      <td>0</td>\n",
       "      <td>0</td>\n",
       "    </tr>\n",
       "    <tr>\n",
       "      <th>0b1ad096c62c11e3928c0002c99cbb0a_8.jpg</th>\n",
       "      <td>0b1ad096c62c11e3928c0002c99cbb0a_8.jpg</td>\n",
       "      <td>0</td>\n",
       "      <td>0</td>\n",
       "    </tr>\n",
       "    <tr>\n",
       "      <th>10175147_636711856403365_397404597_n.jpg</th>\n",
       "      <td>10175147_636711856403365_397404597_n.jpg</td>\n",
       "      <td>0</td>\n",
       "      <td>0</td>\n",
       "    </tr>\n",
       "    <tr>\n",
       "      <th>10175341_245502988988606_1393079443_n.jpg</th>\n",
       "      <td>10175341_245502988988606_1393079443_n.jpg</td>\n",
       "      <td>0</td>\n",
       "      <td>0</td>\n",
       "    </tr>\n",
       "  </tbody>\n",
       "</table>\n",
       "</div>"
      ],
      "text/plain": [
       "                                                                        image.sample  \\\n",
       "0110b366b08a11e3977912351092712f_8.jpg        0110b366b08a11e3977912351092712f_8.jpg   \n",
       "06348a0aba5a11e3ae221212d5b5af4c_8.jpg        06348a0aba5a11e3ae221212d5b5af4c_8.jpg   \n",
       "0b1ad096c62c11e3928c0002c99cbb0a_8.jpg        0b1ad096c62c11e3928c0002c99cbb0a_8.jpg   \n",
       "10175147_636711856403365_397404597_n.jpg    10175147_636711856403365_397404597_n.jpg   \n",
       "10175341_245502988988606_1393079443_n.jpg  10175341_245502988988606_1393079443_n.jpg   \n",
       "\n",
       "                                           single.face  mult.faces  \n",
       "0110b366b08a11e3977912351092712f_8.jpg               0           0  \n",
       "06348a0aba5a11e3ae221212d5b5af4c_8.jpg               0           0  \n",
       "0b1ad096c62c11e3928c0002c99cbb0a_8.jpg               0           0  \n",
       "10175147_636711856403365_397404597_n.jpg             0           0  \n",
       "10175341_245502988988606_1393079443_n.jpg            0           0  "
      ]
     },
     "execution_count": 6,
     "metadata": {},
     "output_type": "execute_result"
    }
   ],
   "source": [
    "df[\"single.face\"] = 0\n",
    "df[\"mult.faces\"] = 0\n",
    "df.head()"
   ]
  },
  {
   "cell_type": "code",
   "execution_count": 7,
   "metadata": {
    "collapsed": false
   },
   "outputs": [
    {
     "name": "stderr",
     "output_type": "stream",
     "text": [
      "/Users/myazdaniUCSD/anaconda/lib/python2.7/site-packages/pandas/core/indexing.py:115: SettingWithCopyWarning: \n",
      "A value is trying to be set on a copy of a slice from a DataFrame\n",
      "\n",
      "See the the caveats in the documentation: http://pandas.pydata.org/pandas-docs/stable/indexing.html#indexing-view-versus-copy\n",
      "  self._setitem_with_indexer(indexer, value)\n"
     ]
    },
    {
     "data": {
      "text/html": [
       "<div>\n",
       "<table border=\"1\" class=\"dataframe\">\n",
       "  <thead>\n",
       "    <tr style=\"text-align: right;\">\n",
       "      <th></th>\n",
       "      <th>image.sample</th>\n",
       "      <th>single.face</th>\n",
       "      <th>mult.faces</th>\n",
       "      <th>binary.face</th>\n",
       "    </tr>\n",
       "  </thead>\n",
       "  <tbody>\n",
       "    <tr>\n",
       "      <th>0110b366b08a11e3977912351092712f_8.jpg</th>\n",
       "      <td>0110b366b08a11e3977912351092712f_8.jpg</td>\n",
       "      <td>0</td>\n",
       "      <td>0</td>\n",
       "      <td>0</td>\n",
       "    </tr>\n",
       "    <tr>\n",
       "      <th>06348a0aba5a11e3ae221212d5b5af4c_8.jpg</th>\n",
       "      <td>06348a0aba5a11e3ae221212d5b5af4c_8.jpg</td>\n",
       "      <td>0</td>\n",
       "      <td>0</td>\n",
       "      <td>0</td>\n",
       "    </tr>\n",
       "    <tr>\n",
       "      <th>0b1ad096c62c11e3928c0002c99cbb0a_8.jpg</th>\n",
       "      <td>0b1ad096c62c11e3928c0002c99cbb0a_8.jpg</td>\n",
       "      <td>0</td>\n",
       "      <td>0</td>\n",
       "      <td>0</td>\n",
       "    </tr>\n",
       "    <tr>\n",
       "      <th>10175147_636711856403365_397404597_n.jpg</th>\n",
       "      <td>10175147_636711856403365_397404597_n.jpg</td>\n",
       "      <td>0</td>\n",
       "      <td>0</td>\n",
       "      <td>0</td>\n",
       "    </tr>\n",
       "    <tr>\n",
       "      <th>10175341_245502988988606_1393079443_n.jpg</th>\n",
       "      <td>10175341_245502988988606_1393079443_n.jpg</td>\n",
       "      <td>0</td>\n",
       "      <td>0</td>\n",
       "      <td>0</td>\n",
       "    </tr>\n",
       "    <tr>\n",
       "      <th>10245917_1400121220267791_726421563_n.jpg</th>\n",
       "      <td>10245917_1400121220267791_726421563_n.jpg</td>\n",
       "      <td>0</td>\n",
       "      <td>0</td>\n",
       "      <td>0</td>\n",
       "    </tr>\n",
       "    <tr>\n",
       "      <th>10245929_1375203796100488_1027974612_n.jpg</th>\n",
       "      <td>10245929_1375203796100488_1027974612_n.jpg</td>\n",
       "      <td>0</td>\n",
       "      <td>0</td>\n",
       "      <td>0</td>\n",
       "    </tr>\n",
       "    <tr>\n",
       "      <th>10246104_278016545709531_753158933_n.jpg</th>\n",
       "      <td>10246104_278016545709531_753158933_n.jpg</td>\n",
       "      <td>0</td>\n",
       "      <td>0</td>\n",
       "      <td>0</td>\n",
       "    </tr>\n",
       "    <tr>\n",
       "      <th>10268827_570043936446478_221945099_n.jpg</th>\n",
       "      <td>10268827_570043936446478_221945099_n.jpg</td>\n",
       "      <td>0</td>\n",
       "      <td>1</td>\n",
       "      <td>1</td>\n",
       "    </tr>\n",
       "    <tr>\n",
       "      <th>10296721_655833044493218_488406528_n.jpg</th>\n",
       "      <td>10296721_655833044493218_488406528_n.jpg</td>\n",
       "      <td>0</td>\n",
       "      <td>0</td>\n",
       "      <td>0</td>\n",
       "    </tr>\n",
       "  </tbody>\n",
       "</table>\n",
       "</div>"
      ],
      "text/plain": [
       "                                                                          image.sample  \\\n",
       "0110b366b08a11e3977912351092712f_8.jpg          0110b366b08a11e3977912351092712f_8.jpg   \n",
       "06348a0aba5a11e3ae221212d5b5af4c_8.jpg          06348a0aba5a11e3ae221212d5b5af4c_8.jpg   \n",
       "0b1ad096c62c11e3928c0002c99cbb0a_8.jpg          0b1ad096c62c11e3928c0002c99cbb0a_8.jpg   \n",
       "10175147_636711856403365_397404597_n.jpg      10175147_636711856403365_397404597_n.jpg   \n",
       "10175341_245502988988606_1393079443_n.jpg    10175341_245502988988606_1393079443_n.jpg   \n",
       "10245917_1400121220267791_726421563_n.jpg    10245917_1400121220267791_726421563_n.jpg   \n",
       "10245929_1375203796100488_1027974612_n.jpg  10245929_1375203796100488_1027974612_n.jpg   \n",
       "10246104_278016545709531_753158933_n.jpg      10246104_278016545709531_753158933_n.jpg   \n",
       "10268827_570043936446478_221945099_n.jpg      10268827_570043936446478_221945099_n.jpg   \n",
       "10296721_655833044493218_488406528_n.jpg      10296721_655833044493218_488406528_n.jpg   \n",
       "\n",
       "                                            single.face  mult.faces  \\\n",
       "0110b366b08a11e3977912351092712f_8.jpg                0           0   \n",
       "06348a0aba5a11e3ae221212d5b5af4c_8.jpg                0           0   \n",
       "0b1ad096c62c11e3928c0002c99cbb0a_8.jpg                0           0   \n",
       "10175147_636711856403365_397404597_n.jpg              0           0   \n",
       "10175341_245502988988606_1393079443_n.jpg             0           0   \n",
       "10245917_1400121220267791_726421563_n.jpg             0           0   \n",
       "10245929_1375203796100488_1027974612_n.jpg            0           0   \n",
       "10246104_278016545709531_753158933_n.jpg              0           0   \n",
       "10268827_570043936446478_221945099_n.jpg              0           1   \n",
       "10296721_655833044493218_488406528_n.jpg              0           0   \n",
       "\n",
       "                                            binary.face  \n",
       "0110b366b08a11e3977912351092712f_8.jpg                0  \n",
       "06348a0aba5a11e3ae221212d5b5af4c_8.jpg                0  \n",
       "0b1ad096c62c11e3928c0002c99cbb0a_8.jpg                0  \n",
       "10175147_636711856403365_397404597_n.jpg              0  \n",
       "10175341_245502988988606_1393079443_n.jpg             0  \n",
       "10245917_1400121220267791_726421563_n.jpg             0  \n",
       "10245929_1375203796100488_1027974612_n.jpg            0  \n",
       "10246104_278016545709531_753158933_n.jpg              0  \n",
       "10268827_570043936446478_221945099_n.jpg              1  \n",
       "10296721_655833044493218_488406528_n.jpg              0  "
      ]
     },
     "execution_count": 7,
     "metadata": {},
     "output_type": "execute_result"
    }
   ],
   "source": [
    "df[\"single.face\"].loc[single_face_df[\"filename\"]] = 1\n",
    "df[\"mult.faces\"].loc[mult_face_df[\"filename\"]] = 1\n",
    "df[\"binary.face\"] = df[\"single.face\"] + df[\"mult.faces\"]\n",
    "df.head(n = 10)"
   ]
  },
  {
   "cell_type": "code",
   "execution_count": 8,
   "metadata": {
    "collapsed": true
   },
   "outputs": [],
   "source": [
    "df.to_csv(\"../../../data/Alise-broadway-labels.csv\", index = False)"
   ]
  },
  {
   "cell_type": "markdown",
   "metadata": {},
   "source": [
    "# Gridsearch for best parameters"
   ]
  },
  {
   "cell_type": "code",
   "execution_count": null,
   "metadata": {
    "collapsed": true
   },
   "outputs": [],
   "source": [
    "X = image_paths\n",
    "y = array(df[\"binary.face\"])"
   ]
  },
  {
   "cell_type": "code",
   "execution_count": null,
   "metadata": {
    "collapsed": false
   },
   "outputs": [],
   "source": [
    "print len(X)\n",
    "print len(y)"
   ]
  },
  {
   "cell_type": "code",
   "execution_count": null,
   "metadata": {
    "collapsed": false
   },
   "outputs": [],
   "source": [
    "classifier_path = \"/Applications/OpenCV/opencv-2.4.8/data/haarcascades/haarcascade_eye.xml\"\n",
    "faceCascade = FaceDetector(classifier_path)\n",
    "tuned_params = {\"minNeighbors\" : range(3,9), \"scaleFactor\": linspace(1.01, 2.21, 11)}"
   ]
  },
  {
   "cell_type": "code",
   "execution_count": null,
   "metadata": {
    "collapsed": false
   },
   "outputs": [],
   "source": [
    "gs = GridSearchCV(faceCascade, tuned_params, scoring = \"f1_weighted\")\n",
    "gs.fit(X, y)\n",
    "print \"best param is:\", gs.best_params_\n",
    "print \"best score is:\", gs.best_score_"
   ]
  },
  {
   "cell_type": "code",
   "execution_count": null,
   "metadata": {
    "collapsed": false
   },
   "outputs": [],
   "source": [
    "faceCascade = FaceDetector(classifier_path, minNeighbors = 8,  scaleFactor=1.01)\n",
    "y_pred = faceCascade.predict(X)\n",
    "print(classification_report(y, array(y_pred)))"
   ]
  },
  {
   "cell_type": "markdown",
   "metadata": {},
   "source": [
    "## Ensemble all the things"
   ]
  },
  {
   "cell_type": "code",
   "execution_count": null,
   "metadata": {
    "collapsed": true
   },
   "outputs": [],
   "source": [
    "def face_res(X, classifierPath, minN, scaleF):\n",
    "    faceCascade = FaceDetector(classifierPath, minNeighbors=minN, scaleFactor=scaleF)\n",
    "    y_pred = faceCascade.predict(X)\n",
    "    return y_pred"
   ]
  },
  {
   "cell_type": "code",
   "execution_count": null,
   "metadata": {
    "collapsed": false
   },
   "outputs": [],
   "source": [
    "y_frontal_face_alt = face_res(X, classifierPath=\"/Applications/OpenCV/opencv-2.4.8/data/haarcascades/haarcascade_frontalface_alt.xml\", minN=7, scaleF=1.01)"
   ]
  },
  {
   "cell_type": "code",
   "execution_count": null,
   "metadata": {
    "collapsed": false
   },
   "outputs": [],
   "source": [
    "y_frontal_face_alt_tree = face_res(X, classifierPath=\"/Applications/OpenCV/opencv-2.4.8/data/haarcascades/haarcascade_frontalface_alt_tree.xml\", minN=5, scaleF=1.01)"
   ]
  },
  {
   "cell_type": "code",
   "execution_count": null,
   "metadata": {
    "collapsed": false
   },
   "outputs": [],
   "source": [
    "y_profileface = face_res(X, classifierPath=\"/Applications/OpenCV/opencv-2.4.8/data/haarcascades/haarcascade_profileface.xml\", minN=3, scaleF=1.01)"
   ]
  },
  {
   "cell_type": "code",
   "execution_count": null,
   "metadata": {
    "collapsed": false
   },
   "outputs": [],
   "source": [
    "y_eye = face_res(X, classifierPath=\"/Applications/OpenCV/opencv-2.4.8/data/haarcascades/haarcascade_eye.xml\", minN=8, scaleF=1.01)"
   ]
  },
  {
   "cell_type": "code",
   "execution_count": null,
   "metadata": {
    "collapsed": true
   },
   "outputs": [],
   "source": [
    "from collections import Counter\n",
    "predictions_votes = []\n",
    "for i in range(len(y_frontal_face_alt)):\n",
    "    predictions = [y_frontal_face_alt[i], y_frontal_face_alt_tree[i], y_profileface[i], y_eye[i]]\n",
    "    data = Counter(predictions)\n",
    "    predictions_votes.append(data.most_common(1))"
   ]
  },
  {
   "cell_type": "code",
   "execution_count": null,
   "metadata": {
    "collapsed": true
   },
   "outputs": [],
   "source": [
    "y_preds = array([predictions_vote[0][0] for predictions_vote in predictions_votes])"
   ]
  },
  {
   "cell_type": "code",
   "execution_count": null,
   "metadata": {
    "collapsed": false
   },
   "outputs": [],
   "source": [
    "print(classification_report(y, y_preds))"
   ]
  },
  {
   "cell_type": "code",
   "execution_count": null,
   "metadata": {
    "collapsed": false
   },
   "outputs": [],
   "source": [
    ".42*1412"
   ]
  },
  {
   "cell_type": "markdown",
   "metadata": {},
   "source": [
    "## Copy Candidate Images"
   ]
  },
  {
   "cell_type": "code",
   "execution_count": null,
   "metadata": {
    "collapsed": false
   },
   "outputs": [],
   "source": [
    "indx = list(where(y_preds == 1)[0])\n",
    "indx = [int(ind) for ind in indx]\n",
    "images = [X[i] for i in indx]"
   ]
  },
  {
   "cell_type": "code",
   "execution_count": null,
   "metadata": {
    "collapsed": false
   },
   "outputs": [],
   "source": [
    "len(images)"
   ]
  },
  {
   "cell_type": "code",
   "execution_count": null,
   "metadata": {
    "collapsed": true
   },
   "outputs": [],
   "source": [
    "import shutil\n",
    "def copyFromListToPath(src_paths, dest_path):\n",
    "    for i in range(len(src_paths)): shutil.copy2(src_paths[i], dest_path)"
   ]
  },
  {
   "cell_type": "code",
   "execution_count": null,
   "metadata": {
    "collapsed": true
   },
   "outputs": [],
   "source": [
    "copyFromListToPath(images, dest_path = \"../candidate-images/\")"
   ]
  },
  {
   "cell_type": "code",
   "execution_count": null,
   "metadata": {
    "collapsed": false
   },
   "outputs": [],
   "source": [
    "image_names = [image.split(\"/\")[-1] for image in images]\n",
    "aws_images = [\"https://s3-us-west-2.amazonaws.com/london-selfie/candidate-broadway-imgs/\" + image_name for image_name in image_names]\n",
    "df = pd.DataFrame({\"image_url\": aws_images})\n",
    "df.head()"
   ]
  },
  {
   "cell_type": "code",
   "execution_count": null,
   "metadata": {
    "collapsed": true
   },
   "outputs": [],
   "source": [
    "df.to_csv(\"../../../data/candidate-broadway-imgs.csv\", index = False)"
   ]
  },
  {
   "cell_type": "code",
   "execution_count": null,
   "metadata": {
    "collapsed": true
   },
   "outputs": [],
   "source": []
  }
 ],
 "metadata": {
  "kernelspec": {
   "display_name": "Python 2",
   "language": "python",
   "name": "python2"
  },
  "language_info": {
   "codemirror_mode": {
    "name": "ipython",
    "version": 2
   },
   "file_extension": ".py",
   "mimetype": "text/x-python",
   "name": "python",
   "nbconvert_exporter": "python",
   "pygments_lexer": "ipython2",
   "version": "2.7.10"
  }
 },
 "nbformat": 4,
 "nbformat_minor": 0
}
