{
 "cells": [
  {
   "cell_type": "code",
   "execution_count": 1,
   "metadata": {
    "collapsed": true
   },
   "outputs": [],
   "source": [
    "import csv\n",
    "import os\n",
    "import pandas as pd\n",
    "from sklearn.metrics import confusion_matrix\n",
    "import matplotlib.pyplot as plt\n",
    "import numpy as np\n",
    "%matplotlib inline"
   ]
  },
  {
   "cell_type": "code",
   "execution_count": 2,
   "metadata": {
    "collapsed": true
   },
   "outputs": [],
   "source": [
    "def return_rows(filename, file_encoding = 'rU'):\n",
    "  with open(filename, file_encoding) as f: \n",
    "    reader = csv.reader(f)\n",
    "    rowsInData = [row for row in reader]\n",
    "  return rowsInData  "
   ]
  },
  {
   "cell_type": "code",
   "execution_count": 3,
   "metadata": {
    "collapsed": false
   },
   "outputs": [
    {
     "data": {
      "text/plain": [
       "['C:\\\\Users\\\\Hon Sun\\\\Desktop\\\\Alise\\\\Manovich\\\\on broadway nypl\\\\1 or 2 faces\\\\broadway_samples_to_label\\\\00_2_or_more\\\\textfile.txt ']"
      ]
     },
     "execution_count": 3,
     "metadata": {},
     "output_type": "execute_result"
    }
   ],
   "source": [
    "single_faces = return_rows(\"../data-labels/AliseLabels_raw/00_1_face_textfile.txt\")\n",
    "multiple_faces = return_rows(\"../data-labels/AliseLabels_raw/00_2_or_more_textfile.txt\")\n",
    "single_faces.pop()\n",
    "multiple_faces.pop()"
   ]
  },
  {
   "cell_type": "code",
   "execution_count": 4,
   "metadata": {
    "collapsed": true
   },
   "outputs": [],
   "source": [
    "single_face_images = [single_face[0].split(\"\\\\\")[-1].strip() for single_face in single_faces]\n",
    "multiple_face_images = [multiple_face[0].split(\"\\\\\")[-1].strip() for multiple_face in multiple_faces]"
   ]
  },
  {
   "cell_type": "code",
   "execution_count": 5,
   "metadata": {
    "collapsed": false
   },
   "outputs": [],
   "source": [
    "broadway_meta = return_rows(\"../data-labels/broadway_sample.csv\")\n",
    "opencv_outputs = pd.DataFrame({'images': [b[0] for b in broadway_meta[1:]], 'OpenCV.output': [b[-2] for b in broadway_meta[1:]]})"
   ]
  },
  {
   "cell_type": "code",
   "execution_count": 6,
   "metadata": {
    "collapsed": false
   },
   "outputs": [],
   "source": [
    "src_path, image_type = \"../images/\", (\".jpg\", \".JPG\")\n",
    "image_paths = []  \n",
    "for root, dirs, files in os.walk(src_path):\n",
    "  image_paths.extend([os.path.join(root, f) for f in files if f.endswith(image_type)])"
   ]
  },
  {
   "cell_type": "code",
   "execution_count": 7,
   "metadata": {
    "collapsed": false
   },
   "outputs": [],
   "source": [
    "images = [image_path.split(\"/\")[-1] for image_path in image_paths]"
   ]
  },
  {
   "cell_type": "code",
   "execution_count": 8,
   "metadata": {
    "collapsed": false
   },
   "outputs": [],
   "source": [
    "labels = []\n",
    "for image in images:\n",
    "    if image in single_face_images: labels.append([[image, \"single face\"]])\n",
    "    elif image in multiple_face_images: labels.append([[image,\"multiple faces\"]])\n",
    "    else: labels.append([[image, \"no faces\"]])"
   ]
  },
  {
   "cell_type": "code",
   "execution_count": 9,
   "metadata": {
    "collapsed": false
   },
   "outputs": [],
   "source": [
    "labels_df = pd.DataFrame({'images': [label[0][0] for label in labels], 'label': [label[0][1] for label in labels]})"
   ]
  },
  {
   "cell_type": "code",
   "execution_count": 10,
   "metadata": {
    "collapsed": false
   },
   "outputs": [],
   "source": [
    "res = pd.merge(labels_df, opencv_outputs, on = 'images')"
   ]
  },
  {
   "cell_type": "code",
   "execution_count": 11,
   "metadata": {
    "collapsed": false
   },
   "outputs": [],
   "source": [
    "human_labels = list(res['label'])\n",
    "opencv_labels = list(res['OpenCV.output'])"
   ]
  },
  {
   "cell_type": "code",
   "execution_count": 12,
   "metadata": {
    "collapsed": false
   },
   "outputs": [],
   "source": [
    "opencv_label_names = []\n",
    "for opencv_label in opencv_labels:\n",
    "    if int(opencv_label) == 0: opencv_label_names.append(\"no faces\")\n",
    "    if int(opencv_label) == 1: opencv_label_names.append(\"single face\")\n",
    "    if int(opencv_label) > 1: opencv_label_names.append(\"multiple faces\")"
   ]
  },
  {
   "cell_type": "code",
   "execution_count": 13,
   "metadata": {
    "collapsed": false
   },
   "outputs": [
    {
     "data": {
      "text/plain": [
       "<matplotlib.image.AxesImage at 0x10b50f450>"
      ]
     },
     "execution_count": 13,
     "metadata": {},
     "output_type": "execute_result"
    },
    {
     "data": {
      "image/png": "[encoded data removed]",
      "text/plain": [
       "<matplotlib.figure.Figure at 0x10afdadd0>"
      ]
     },
     "metadata": {},
     "output_type": "display_data"
    }
   ],
   "source": [
    "cm = confusion_matrix(human_labels, opencv_label_names)\n",
    "plt.imshow(cm, interpolation='nearest', cmap = plt.gray())"
   ]
  },
  {
   "cell_type": "code",
   "execution_count": 14,
   "metadata": {
    "collapsed": false
   },
   "outputs": [],
   "source": [
    "cm_normalized = cm.astype('float') / cm.sum(axis=1)[:, np.newaxis]"
   ]
  },
  {
   "cell_type": "code",
   "execution_count": 15,
   "metadata": {
    "collapsed": false
   },
   "outputs": [
    {
     "data": {
      "text/plain": [
       "array([[ 0.30474934,  0.41952507,  0.27572559],\n",
       "       [ 0.00287356,  0.96264368,  0.03448276],\n",
       "       [ 0.01223242,  0.53211009,  0.45565749]])"
      ]
     },
     "execution_count": 15,
     "metadata": {},
     "output_type": "execute_result"
    }
   ],
   "source": [
    "cm_normalized"
   ]
  },
  {
   "cell_type": "code",
   "execution_count": 16,
   "metadata": {
    "collapsed": false
   },
   "outputs": [
    {
     "data": {
      "text/plain": [
       "array([[ 231,  318,  209],\n",
       "       [   6, 2010,   72],\n",
       "       [   8,  348,  298]])"
      ]
     },
     "execution_count": 16,
     "metadata": {},
     "output_type": "execute_result"
    }
   ],
   "source": [
    "cm"
   ]
  },
  {
   "cell_type": "code",
   "execution_count": 27,
   "metadata": {
    "collapsed": false
   },
   "outputs": [
    {
     "data": {
      "text/plain": [
       "654"
      ]
     },
     "execution_count": 27,
     "metadata": {},
     "output_type": "execute_result"
    }
   ],
   "source": [
    "len(set(single_face_images).intersection(images))"
   ]
  },
  {
   "cell_type": "code",
   "execution_count": 29,
   "metadata": {
    "collapsed": false
   },
   "outputs": [
    {
     "data": {
      "text/plain": [
       "758"
      ]
     },
     "execution_count": 29,
     "metadata": {},
     "output_type": "execute_result"
    }
   ],
   "source": [
    "len(multiple_face_images)"
   ]
  },
  {
   "cell_type": "code",
   "execution_count": null,
   "metadata": {
    "collapsed": false
   },
   "outputs": [],
   "source": []
  }
 ],
 "metadata": {
  "kernelspec": {
   "display_name": "Python 2",
   "language": "python",
   "name": "python2"
  },
  "language_info": {
   "codemirror_mode": {
    "name": "ipython",
    "version": 2
   },
   "file_extension": ".py",
   "mimetype": "text/x-python",
   "name": "python",
   "nbconvert_exporter": "python",
   "pygments_lexer": "ipython2",
   "version": "2.7.9"
  }
 },
 "nbformat": 4,
 "nbformat_minor": 0
}
